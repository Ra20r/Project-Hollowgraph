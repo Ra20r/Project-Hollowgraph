{
 "cells": [
  {
   "cell_type": "markdown",
   "metadata": {},
   "source": [
    "## Project Hollowgraph"
   ]
  },
  {
   "cell_type": "code",
   "execution_count": 1,
   "metadata": {},
   "outputs": [],
   "source": [
    "%matplotlib inline\n",
    "import math\n",
    "import pandas as pd\n",
    "import matplotlib.pyplot as plt\n",
    "import csv\n",
    "import mpld3\n",
    "\n",
    "#mpld3.enable_notebook()\n",
    "plt.style.use('dark_background')"
   ]
  },
  {
   "cell_type": "markdown",
   "metadata": {},
   "source": [
    "This notebook is meant to be used on data collected using ard_code_1"
   ]
  },
  {
   "cell_type": "code",
   "execution_count": 2,
   "metadata": {},
   "outputs": [],
   "source": [
    "data_path = \"../../data/ard_code_1_data/full.csv\" # insert csv path\n",
    "out_csv = \"../../data/data1.csv\" # output csv"
   ]
  },
  {
   "cell_type": "markdown",
   "metadata": {},
   "source": [
    "Format of the data:\n",
    "* The servo sweeps a 180 degree arc taking a reading at an interval of 1 degree\n",
    "* Each row in the csv corresponds to readings at a specific angle, therefore, number of columns is the number of observations\n",
    "* Also, since the sensor takes a total of 181 readings, number of rows is 181"
   ]
  },
  {
   "cell_type": "code",
   "execution_count": 3,
   "metadata": {},
   "outputs": [
    {
     "data": {
      "text/html": [
       "<div>\n",
       "<style scoped>\n",
       "    .dataframe tbody tr th:only-of-type {\n",
       "        vertical-align: middle;\n",
       "    }\n",
       "\n",
       "    .dataframe tbody tr th {\n",
       "        vertical-align: top;\n",
       "    }\n",
       "\n",
       "    .dataframe thead th {\n",
       "        text-align: right;\n",
       "    }\n",
       "</style>\n",
       "<table border=\"1\" class=\"dataframe\">\n",
       "  <thead>\n",
       "    <tr style=\"text-align: right;\">\n",
       "      <th></th>\n",
       "      <th>0_deg</th>\n",
       "      <th>1_deg</th>\n",
       "      <th>2_deg</th>\n",
       "      <th>3_deg</th>\n",
       "      <th>4_deg</th>\n",
       "      <th>5_deg</th>\n",
       "      <th>6_deg</th>\n",
       "      <th>7_deg</th>\n",
       "      <th>8_deg</th>\n",
       "      <th>9_deg</th>\n",
       "      <th>...</th>\n",
       "      <th>171_deg</th>\n",
       "      <th>172_deg</th>\n",
       "      <th>173_deg</th>\n",
       "      <th>174_deg</th>\n",
       "      <th>175_deg</th>\n",
       "      <th>176_deg</th>\n",
       "      <th>177_deg</th>\n",
       "      <th>178_deg</th>\n",
       "      <th>179_deg</th>\n",
       "      <th>180_deg</th>\n",
       "    </tr>\n",
       "  </thead>\n",
       "  <tbody>\n",
       "    <tr>\n",
       "      <th>0</th>\n",
       "      <td>3.2</td>\n",
       "      <td>3.0</td>\n",
       "      <td>3.1</td>\n",
       "      <td>3.1</td>\n",
       "      <td>3.2</td>\n",
       "      <td>3.1</td>\n",
       "      <td>3.2</td>\n",
       "      <td>3.2</td>\n",
       "      <td>3.1</td>\n",
       "      <td>3.6</td>\n",
       "      <td>...</td>\n",
       "      <td>3.1</td>\n",
       "      <td>2.6</td>\n",
       "      <td>2.5</td>\n",
       "      <td>3.1</td>\n",
       "      <td>2.7</td>\n",
       "      <td>2.7</td>\n",
       "      <td>2.7</td>\n",
       "      <td>2.7</td>\n",
       "      <td>2.7</td>\n",
       "      <td>2.7</td>\n",
       "    </tr>\n",
       "    <tr>\n",
       "      <th>1</th>\n",
       "      <td>3.1</td>\n",
       "      <td>3.1</td>\n",
       "      <td>3.0</td>\n",
       "      <td>3.2</td>\n",
       "      <td>3.1</td>\n",
       "      <td>3.2</td>\n",
       "      <td>3.1</td>\n",
       "      <td>3.2</td>\n",
       "      <td>3.2</td>\n",
       "      <td>3.6</td>\n",
       "      <td>...</td>\n",
       "      <td>3.1</td>\n",
       "      <td>3.1</td>\n",
       "      <td>2.6</td>\n",
       "      <td>2.9</td>\n",
       "      <td>2.7</td>\n",
       "      <td>3.0</td>\n",
       "      <td>2.7</td>\n",
       "      <td>2.7</td>\n",
       "      <td>2.7</td>\n",
       "      <td>2.7</td>\n",
       "    </tr>\n",
       "    <tr>\n",
       "      <th>2</th>\n",
       "      <td>3.2</td>\n",
       "      <td>3.0</td>\n",
       "      <td>3.1</td>\n",
       "      <td>3.1</td>\n",
       "      <td>3.1</td>\n",
       "      <td>3.1</td>\n",
       "      <td>3.2</td>\n",
       "      <td>3.2</td>\n",
       "      <td>3.2</td>\n",
       "      <td>3.6</td>\n",
       "      <td>...</td>\n",
       "      <td>3.1</td>\n",
       "      <td>2.9</td>\n",
       "      <td>2.6</td>\n",
       "      <td>3.1</td>\n",
       "      <td>2.6</td>\n",
       "      <td>2.8</td>\n",
       "      <td>3.1</td>\n",
       "      <td>2.7</td>\n",
       "      <td>2.6</td>\n",
       "      <td>2.7</td>\n",
       "    </tr>\n",
       "    <tr>\n",
       "      <th>3</th>\n",
       "      <td>3.1</td>\n",
       "      <td>3.2</td>\n",
       "      <td>3.0</td>\n",
       "      <td>3.2</td>\n",
       "      <td>3.2</td>\n",
       "      <td>3.2</td>\n",
       "      <td>3.1</td>\n",
       "      <td>3.2</td>\n",
       "      <td>3.6</td>\n",
       "      <td>3.6</td>\n",
       "      <td>...</td>\n",
       "      <td>2.6</td>\n",
       "      <td>2.6</td>\n",
       "      <td>2.6</td>\n",
       "      <td>3.0</td>\n",
       "      <td>2.7</td>\n",
       "      <td>3.0</td>\n",
       "      <td>3.1</td>\n",
       "      <td>2.7</td>\n",
       "      <td>2.7</td>\n",
       "      <td>2.7</td>\n",
       "    </tr>\n",
       "    <tr>\n",
       "      <th>4</th>\n",
       "      <td>3.2</td>\n",
       "      <td>3.0</td>\n",
       "      <td>3.1</td>\n",
       "      <td>3.2</td>\n",
       "      <td>3.2</td>\n",
       "      <td>3.5</td>\n",
       "      <td>3.2</td>\n",
       "      <td>3.2</td>\n",
       "      <td>3.6</td>\n",
       "      <td>3.5</td>\n",
       "      <td>...</td>\n",
       "      <td>2.7</td>\n",
       "      <td>2.5</td>\n",
       "      <td>2.6</td>\n",
       "      <td>3.1</td>\n",
       "      <td>3.0</td>\n",
       "      <td>3.0</td>\n",
       "      <td>2.7</td>\n",
       "      <td>2.7</td>\n",
       "      <td>2.6</td>\n",
       "      <td>2.7</td>\n",
       "    </tr>\n",
       "  </tbody>\n",
       "</table>\n",
       "<p>5 rows × 181 columns</p>\n",
       "</div>"
      ],
      "text/plain": [
       "   0_deg  1_deg  2_deg  3_deg  4_deg  5_deg  6_deg  7_deg  8_deg  9_deg  ...  \\\n",
       "0    3.2    3.0    3.1    3.1    3.2    3.1    3.2    3.2    3.1    3.6  ...   \n",
       "1    3.1    3.1    3.0    3.2    3.1    3.2    3.1    3.2    3.2    3.6  ...   \n",
       "2    3.2    3.0    3.1    3.1    3.1    3.1    3.2    3.2    3.2    3.6  ...   \n",
       "3    3.1    3.2    3.0    3.2    3.2    3.2    3.1    3.2    3.6    3.6  ...   \n",
       "4    3.2    3.0    3.1    3.2    3.2    3.5    3.2    3.2    3.6    3.5  ...   \n",
       "\n",
       "   171_deg  172_deg  173_deg  174_deg  175_deg  176_deg  177_deg  178_deg  \\\n",
       "0      3.1      2.6      2.5      3.1      2.7      2.7      2.7      2.7   \n",
       "1      3.1      3.1      2.6      2.9      2.7      3.0      2.7      2.7   \n",
       "2      3.1      2.9      2.6      3.1      2.6      2.8      3.1      2.7   \n",
       "3      2.6      2.6      2.6      3.0      2.7      3.0      3.1      2.7   \n",
       "4      2.7      2.5      2.6      3.1      3.0      3.0      2.7      2.7   \n",
       "\n",
       "   179_deg  180_deg  \n",
       "0      2.7      2.7  \n",
       "1      2.7      2.7  \n",
       "2      2.6      2.7  \n",
       "3      2.7      2.7  \n",
       "4      2.6      2.7  \n",
       "\n",
       "[5 rows x 181 columns]"
      ]
     },
     "execution_count": 3,
     "metadata": {},
     "output_type": "execute_result"
    }
   ],
   "source": [
    "df = pd.read_csv(data_path)\n",
    "df = df.iloc[182:363]\n",
    "col_count = len(df.columns)\n",
    "col_names = [f\"{i}\" for i in range(0, col_count)]\n",
    "df.columns = col_names\n",
    "df.drop(str(col_count-1), axis=1, inplace=True)\n",
    "df = df.T\n",
    "col_count = len(df.columns)\n",
    "col_names = [f\"{i}_deg\" for i in range(0, 181)]\n",
    "df.columns = col_names\n",
    "df.head()\n",
    "# this cell transposes the dataframe and adds column names for ease of use"
   ]
  },
  {
   "cell_type": "code",
   "execution_count": 4,
   "metadata": {},
   "outputs": [],
   "source": [
    "# utiliy function to draw a single section\n",
    "def draw(a, line=False): # a is data of one sweep\n",
    "    x, y, s = [], [], []\n",
    "    marker_size = 1\n",
    "    for i in range(0, len(a)):\n",
    "        s.append(marker_size)\n",
    "        angle = math.pi - i*(math.pi/len(a))\n",
    "        x.append(a[i] * math.cos(angle))\n",
    "        y.append(a[i] * math.sin(angle))\n",
    "    plt.scatter(x, y, s=s)\n",
    "    if line:\n",
    "        plt.plot(x, y)"
   ]
  },
  {
   "cell_type": "code",
   "execution_count": 5,
   "metadata": {},
   "outputs": [],
   "source": [
    "# utility function to transform a dataframe row to a list\n",
    "def pdrow_to_list(dfr):\n",
    "    ret = []\n",
    "    for i in range(0, 180):\n",
    "        ret.append(float(dfr[f'{i}_deg']))\n",
    "    return ret"
   ]
  },
  {
   "cell_type": "markdown",
   "metadata": {},
   "source": [
    "The section below plots the standard deviation for data points in each angle. This gives us a few very interesting observations."
   ]
  },
  {
   "cell_type": "code",
   "execution_count": 6,
   "metadata": {},
   "outputs": [
    {
     "data": {
      "text/plain": [
       "[<matplotlib.lines.Line2D at 0x7f08b83fa7f0>]"
      ]
     },
     "execution_count": 6,
     "metadata": {},
     "output_type": "execute_result"
    },
    {
     "data": {
      "image/png": "[encoded data removed]",
      "text/plain": [
       "<Figure size 432x288 with 1 Axes>"
      ]
     },
     "metadata": {},
     "output_type": "display_data"
    }
   ],
   "source": [
    "a = pdrow_to_list(df.std())\n",
    "x, y, s = [], [], []\n",
    "for i in range(0, len(a)):\n",
    "    s.append(1)\n",
    "    x.append(i)\n",
    "    y.append(a[i])\n",
    "plt.scatter(x, y, s=s)\n",
    "plt.plot(x, y)"
   ]
  },
  {
   "cell_type": "markdown",
   "metadata": {},
   "source": [
    "There is a huge spike near the 50-60 degree mark, this is due to the fact that the sensor encounters a vertex which causes an increase in stray echoes resulting in erroneous readings. This is also observed at around 40-60 and 120-140 degrees in other cuboid readings (due to vertices). We also see that the deviation is relatively small compared to data taken with a higher LIMIT value in arduino code. This is becuause a lower LIMIT causes the sensor to momentarily halt readings if the environment is concentrated with stray echoes."
   ]
  },
  {
   "cell_type": "markdown",
   "metadata": {},
   "source": [
    "The bottom cell is for studying readings/(each row) individually"
   ]
  },
  {
   "cell_type": "code",
   "execution_count": 7,
   "metadata": {},
   "outputs": [
    {
     "data": {
      "image/png": "[encoded data removed]",
      "text/plain": [
       "<Figure size 432x288 with 1 Axes>"
      ]
     },
     "metadata": {},
     "output_type": "display_data"
    }
   ],
   "source": [
    "reading = 31\n",
    "\n",
    "a = pdrow_to_list(df.iloc[reading:reading+1])\n",
    "draw(a)"
   ]
  },
  {
   "cell_type": "markdown",
   "metadata": {},
   "source": [
    "The cell below is for studying the distribution of readings for each spot at a specific angle/(each column)"
   ]
  },
  {
   "cell_type": "code",
   "execution_count": 8,
   "metadata": {},
   "outputs": [
    {
     "data": {
      "text/plain": [
       "<AxesSubplot: >"
      ]
     },
     "execution_count": 8,
     "metadata": {},
     "output_type": "execute_result"
    },
    {
     "data": {
      "image/png": "[encoded data removed]",
      "text/plain": [
       "<Figure size 432x288 with 1 Axes>"
      ]
     },
     "metadata": {},
     "output_type": "display_data"
    }
   ],
   "source": [
    "angle = '45_deg'\n",
    "\n",
    "fig, ax = plt.subplots()\n",
    "df[angle].value_counts().sort_index().plot(ax=ax, kind=\"bar\")"
   ]
  },
  {
   "cell_type": "code",
   "execution_count": 9,
   "metadata": {},
   "outputs": [
    {
     "data": {
      "image/png": "[encoded data removed]",
      "text/plain": [
       "<Figure size 432x288 with 1 Axes>"
      ]
     },
     "metadata": {},
     "output_type": "display_data"
    }
   ],
   "source": [
    "mean = df.mean()\n",
    "mean_data = pdrow_to_list(mean)\n",
    "draw(mean_data)"
   ]
  },
  {
   "cell_type": "code",
   "execution_count": 10,
   "metadata": {},
   "outputs": [
    {
     "data": {
      "image/png": "[encoded data removed]",
      "text/plain": [
       "<Figure size 432x288 with 1 Axes>"
      ]
     },
     "metadata": {},
     "output_type": "display_data"
    }
   ],
   "source": [
    "median = df.median()\n",
    "median_data = pdrow_to_list(median)\n",
    "draw(median_data)"
   ]
  },
  {
   "cell_type": "markdown",
   "metadata": {},
   "source": [
    "In the above two cells, we experiment with mean and median as potential measures of central tendency. Both seem to be a good enough fit with very little trade-off at the present scale. But median seems to be a more accurate measure becuase of the high variance (with outliers) observed at times."
   ]
  },
  {
   "cell_type": "markdown",
   "metadata": {},
   "source": [
    "Increasing the LIMIT in ard_code_1 gives us more data to work with which increases accuracy but becuase of the nature of the sensor, at points, it also decreases accuracy by populating table with several consecutive erroneous data points. This can be overcome by carefully increasing OBSERVATIONS in ard_code_1."
   ]
  },
  {
   "cell_type": "markdown",
   "metadata": {},
   "source": [
    "Although with more data from more sensitive sensors, we will get better results, the sanitisation will not be this straightforward. \n",
    "Further work is to be done in exploring clutering in data points at specific angles. Centroids from these clusters might be a good candidate as an estimate, but this can be employed only on data with higher accuracy from better sensors."
   ]
  },
  {
   "cell_type": "code",
   "execution_count": 11,
   "metadata": {},
   "outputs": [],
   "source": [
    "with open(out_csv, 'a') as file:\n",
    "    writer_object = csv.writer(file)\n",
    "    writer_object.writerow(median_data)\n",
    "    file.close()"
   ]
  },
  {
   "cell_type": "markdown",
   "metadata": {},
   "source": [
    "Above cell can be used to append final data of a arc to the bigger collection of arcs which is used by the renderer to generate a 3d render. For the renderer to be able to access this, a server has to be started in the repo root at localhost:5500."
   ]
  },
  {
   "cell_type": "code",
   "execution_count": 12,
   "metadata": {},
   "outputs": [],
   "source": [
    "def draw_cluster(a, angle):\n",
    "    x, y, s = [], [], []\n",
    "    marker_size = 1\n",
    "    for i in range(0, len(a)):\n",
    "        s.append(marker_size)\n",
    "        x.append(a[i] * math.cos(angle))\n",
    "        y.append(a[i] * math.sin(angle))\n",
    "    plt.scatter(x, y, s=s)"
   ]
  },
  {
   "cell_type": "code",
   "execution_count": 13,
   "metadata": {},
   "outputs": [
    {
     "data": {
      "image/png": "[encoded data removed]",
      "text/plain": [
       "<Figure size 432x288 with 1 Axes>"
      ]
     },
     "metadata": {},
     "output_type": "display_data"
    }
   ],
   "source": [
    "draw_cluster(df['55_deg'], 45)"
   ]
  }
 ],
 "metadata": {
  "kernelspec": {
   "display_name": "Python 3",
   "language": "python",
   "name": "python3"
  },
  "language_info": {
   "codemirror_mode": {
    "name": "ipython",
    "version": 3
   },
   "file_extension": ".py",
   "mimetype": "text/x-python",
   "name": "python",
   "nbconvert_exporter": "python",
   "pygments_lexer": "ipython3",
   "version": "3.8.10"
  }
 },
 "nbformat": 4,
 "nbformat_minor": 5
}
