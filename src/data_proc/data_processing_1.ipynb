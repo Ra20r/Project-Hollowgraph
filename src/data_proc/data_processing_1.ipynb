{
 "cells": [
  {
   "cell_type": "markdown",
   "id": "03d7c02c",
   "metadata": {},
   "source": [
    "## Project Hollowgraph"
   ]
  },
  {
   "cell_type": "code",
   "execution_count": 13,
   "id": "0fd8ef68",
   "metadata": {},
   "outputs": [],
   "source": [
    "%matplotlib inline\n",
    "import math\n",
    "import pandas as pd\n",
    "import matplotlib.pyplot as plt\n",
    "import csv\n",
    "import mpld3\n",
    "\n",
    "#mpld3.enable_notebook()\n",
    "plt.style.use('dark_background')"
   ]
  },
  {
   "cell_type": "markdown",
   "id": "9ad3e62c",
   "metadata": {},
   "source": [
    "This notebook is meant to be used on data collected using ard_code_1"
   ]
  },
  {
   "cell_type": "code",
   "execution_count": 14,
   "id": "cbe86e85",
   "metadata": {},
   "outputs": [],
   "source": [
    "data_path = \"../../data/ard_code_1_data/cuboid_single_arc.csv\" # insert csv path\n",
    "out_csv = \"../../data/data1.csv\" # output csv"
   ]
  },
  {
   "cell_type": "markdown",
   "id": "91060f48",
   "metadata": {},
   "source": [
    "Format of the data:\n",
    "* The servo sweeps a 180 degree arc taking a reading at an interval of 1 degree\n",
    "* Each row in the csv corresponds to readings at a specific angle, therefore, number of columns is the number of observations\n",
    "* Also, since the sensor takes a total of 180 readings, number of rows is 180"
   ]
  },
  {
   "cell_type": "code",
   "execution_count": 15,
   "id": "a294e5d2",
   "metadata": {},
   "outputs": [
    {
     "data": {
      "text/html": [
       "<div>\n",
       "<style scoped>\n",
       "    .dataframe tbody tr th:only-of-type {\n",
       "        vertical-align: middle;\n",
       "    }\n",
       "\n",
       "    .dataframe tbody tr th {\n",
       "        vertical-align: top;\n",
       "    }\n",
       "\n",
       "    .dataframe thead th {\n",
       "        text-align: right;\n",
       "    }\n",
       "</style>\n",
       "<table border=\"1\" class=\"dataframe\">\n",
       "  <thead>\n",
       "    <tr style=\"text-align: right;\">\n",
       "      <th></th>\n",
       "      <th>0_deg</th>\n",
       "      <th>1_deg</th>\n",
       "      <th>2_deg</th>\n",
       "      <th>3_deg</th>\n",
       "      <th>4_deg</th>\n",
       "      <th>5_deg</th>\n",
       "      <th>6_deg</th>\n",
       "      <th>7_deg</th>\n",
       "      <th>8_deg</th>\n",
       "      <th>9_deg</th>\n",
       "      <th>...</th>\n",
       "      <th>170_deg</th>\n",
       "      <th>171_deg</th>\n",
       "      <th>172_deg</th>\n",
       "      <th>173_deg</th>\n",
       "      <th>174_deg</th>\n",
       "      <th>175_deg</th>\n",
       "      <th>176_deg</th>\n",
       "      <th>177_deg</th>\n",
       "      <th>178_deg</th>\n",
       "      <th>179_deg</th>\n",
       "    </tr>\n",
       "  </thead>\n",
       "  <tbody>\n",
       "    <tr>\n",
       "      <th>0</th>\n",
       "      <td>3.0</td>\n",
       "      <td>3.1</td>\n",
       "      <td>3.1</td>\n",
       "      <td>3.0</td>\n",
       "      <td>3.0</td>\n",
       "      <td>2.9</td>\n",
       "      <td>3.1</td>\n",
       "      <td>3.0</td>\n",
       "      <td>2.9</td>\n",
       "      <td>3.1</td>\n",
       "      <td>...</td>\n",
       "      <td>2.5</td>\n",
       "      <td>2.5</td>\n",
       "      <td>2.5</td>\n",
       "      <td>2.9</td>\n",
       "      <td>2.9</td>\n",
       "      <td>2.9</td>\n",
       "      <td>2.5</td>\n",
       "      <td>2.9</td>\n",
       "      <td>2.5</td>\n",
       "      <td>2.5</td>\n",
       "    </tr>\n",
       "    <tr>\n",
       "      <th>1</th>\n",
       "      <td>3.0</td>\n",
       "      <td>2.9</td>\n",
       "      <td>2.9</td>\n",
       "      <td>2.9</td>\n",
       "      <td>3.5</td>\n",
       "      <td>3.1</td>\n",
       "      <td>3.1</td>\n",
       "      <td>3.4</td>\n",
       "      <td>3.1</td>\n",
       "      <td>2.9</td>\n",
       "      <td>...</td>\n",
       "      <td>2.5</td>\n",
       "      <td>2.5</td>\n",
       "      <td>2.5</td>\n",
       "      <td>2.9</td>\n",
       "      <td>2.9</td>\n",
       "      <td>2.8</td>\n",
       "      <td>2.4</td>\n",
       "      <td>2.9</td>\n",
       "      <td>2.5</td>\n",
       "      <td>3.0</td>\n",
       "    </tr>\n",
       "    <tr>\n",
       "      <th>2</th>\n",
       "      <td>3.0</td>\n",
       "      <td>3.0</td>\n",
       "      <td>3.0</td>\n",
       "      <td>3.0</td>\n",
       "      <td>3.1</td>\n",
       "      <td>3.1</td>\n",
       "      <td>3.1</td>\n",
       "      <td>3.5</td>\n",
       "      <td>3.4</td>\n",
       "      <td>3.1</td>\n",
       "      <td>...</td>\n",
       "      <td>2.5</td>\n",
       "      <td>2.5</td>\n",
       "      <td>2.6</td>\n",
       "      <td>2.5</td>\n",
       "      <td>2.9</td>\n",
       "      <td>2.5</td>\n",
       "      <td>2.6</td>\n",
       "      <td>2.9</td>\n",
       "      <td>2.5</td>\n",
       "      <td>2.9</td>\n",
       "    </tr>\n",
       "    <tr>\n",
       "      <th>3</th>\n",
       "      <td>3.0</td>\n",
       "      <td>3.0</td>\n",
       "      <td>2.6</td>\n",
       "      <td>2.9</td>\n",
       "      <td>3.1</td>\n",
       "      <td>3.0</td>\n",
       "      <td>3.1</td>\n",
       "      <td>3.3</td>\n",
       "      <td>3.1</td>\n",
       "      <td>2.9</td>\n",
       "      <td>...</td>\n",
       "      <td>2.6</td>\n",
       "      <td>2.4</td>\n",
       "      <td>2.6</td>\n",
       "      <td>2.5</td>\n",
       "      <td>2.9</td>\n",
       "      <td>2.4</td>\n",
       "      <td>2.5</td>\n",
       "      <td>2.5</td>\n",
       "      <td>2.5</td>\n",
       "      <td>2.9</td>\n",
       "    </tr>\n",
       "    <tr>\n",
       "      <th>4</th>\n",
       "      <td>3.0</td>\n",
       "      <td>3.1</td>\n",
       "      <td>3.0</td>\n",
       "      <td>3.0</td>\n",
       "      <td>2.8</td>\n",
       "      <td>3.5</td>\n",
       "      <td>3.1</td>\n",
       "      <td>3.0</td>\n",
       "      <td>2.9</td>\n",
       "      <td>3.1</td>\n",
       "      <td>...</td>\n",
       "      <td>2.5</td>\n",
       "      <td>2.5</td>\n",
       "      <td>2.9</td>\n",
       "      <td>2.5</td>\n",
       "      <td>2.9</td>\n",
       "      <td>2.5</td>\n",
       "      <td>2.6</td>\n",
       "      <td>2.5</td>\n",
       "      <td>2.3</td>\n",
       "      <td>2.9</td>\n",
       "    </tr>\n",
       "  </tbody>\n",
       "</table>\n",
       "<p>5 rows × 180 columns</p>\n",
       "</div>"
      ],
      "text/plain": [
       "   0_deg  1_deg  2_deg  3_deg  4_deg  5_deg  6_deg  7_deg  8_deg  9_deg  ...  \\\n",
       "0    3.0    3.1    3.1    3.0    3.0    2.9    3.1    3.0    2.9    3.1  ...   \n",
       "1    3.0    2.9    2.9    2.9    3.5    3.1    3.1    3.4    3.1    2.9  ...   \n",
       "2    3.0    3.0    3.0    3.0    3.1    3.1    3.1    3.5    3.4    3.1  ...   \n",
       "3    3.0    3.0    2.6    2.9    3.1    3.0    3.1    3.3    3.1    2.9  ...   \n",
       "4    3.0    3.1    3.0    3.0    2.8    3.5    3.1    3.0    2.9    3.1  ...   \n",
       "\n",
       "   170_deg  171_deg  172_deg  173_deg  174_deg  175_deg  176_deg  177_deg  \\\n",
       "0      2.5      2.5      2.5      2.9      2.9      2.9      2.5      2.9   \n",
       "1      2.5      2.5      2.5      2.9      2.9      2.8      2.4      2.9   \n",
       "2      2.5      2.5      2.6      2.5      2.9      2.5      2.6      2.9   \n",
       "3      2.6      2.4      2.6      2.5      2.9      2.4      2.5      2.5   \n",
       "4      2.5      2.5      2.9      2.5      2.9      2.5      2.6      2.5   \n",
       "\n",
       "   178_deg  179_deg  \n",
       "0      2.5      2.5  \n",
       "1      2.5      3.0  \n",
       "2      2.5      2.9  \n",
       "3      2.5      2.9  \n",
       "4      2.3      2.9  \n",
       "\n",
       "[5 rows x 180 columns]"
      ]
     },
     "execution_count": 15,
     "metadata": {},
     "output_type": "execute_result"
    }
   ],
   "source": [
    "df = pd.read_csv(data_path)\n",
    "col_count = len(df.columns)\n",
    "col_names = [f\"{i}\" for i in range(0, col_count)]\n",
    "df.columns = col_names\n",
    "df.drop(str(col_count-1), axis=1, inplace=True)\n",
    "df = df.T\n",
    "col_count = len(df.columns)\n",
    "col_names = [f\"{i}_deg\" for i in range(0, 180)]\n",
    "df.columns = col_names\n",
    "df.head()\n",
    "# this cell transposes the dataframe and adds column names for ease of use"
   ]
  },
  {
   "cell_type": "code",
   "execution_count": 16,
   "id": "c4e5f8bb",
   "metadata": {},
   "outputs": [],
   "source": [
    "# utiliy function to draw a single section\n",
    "def draw(a, line=False): # a is data of one sweep\n",
    "    x, y, s = [], [], []\n",
    "    marker_size = 1\n",
    "    for i in range(0, len(a)):\n",
    "        s.append(marker_size)\n",
    "        angle = math.pi - i*(math.pi/len(a))\n",
    "        x.append(a[i] * math.cos(angle))\n",
    "        y.append(a[i] * math.sin(angle))\n",
    "    plt.scatter(x, y, s=s)\n",
    "    if line:\n",
    "        plt.plot(x, y)"
   ]
  },
  {
   "cell_type": "code",
   "execution_count": 17,
   "id": "43d2b51d",
   "metadata": {},
   "outputs": [],
   "source": [
    "# utility function to transform a dataframe row to a list\n",
    "def pdrow_to_list(dfr):\n",
    "    ret = []\n",
    "    for i in range(0, 180):\n",
    "        ret.append(float(dfr[f'{i}_deg']))\n",
    "    return ret"
   ]
  },
  {
   "cell_type": "markdown",
   "id": "934ee3a0",
   "metadata": {},
   "source": [
    "The section below plots the standard deviation for data points in each angle. This gives us a few very interesting observations."
   ]
  },
  {
   "cell_type": "code",
   "execution_count": 18,
   "id": "c16b8dbe",
   "metadata": {},
   "outputs": [
    {
     "data": {
      "text/plain": [
       "[<matplotlib.lines.Line2D at 0x7f7b3bdb25e0>]"
      ]
     },
     "execution_count": 18,
     "metadata": {},
     "output_type": "execute_result"
    },
    {
     "data": {
      "image/png": "[encoded data removed]",
      "text/plain": [
       "<Figure size 432x288 with 1 Axes>"
      ]
     },
     "metadata": {},
     "output_type": "display_data"
    }
   ],
   "source": [
    "a = pdrow_to_list(df.std())\n",
    "x, y, s = [], [], []\n",
    "for i in range(0, len(a)):\n",
    "    s.append(1)\n",
    "    x.append(i)\n",
    "    y.append(a[i])\n",
    "plt.scatter(x, y, s=s)\n",
    "plt.plot(x, y)"
   ]
  },
  {
   "cell_type": "markdown",
   "id": "e169f46b",
   "metadata": {},
   "source": [
    "There is a huge spike near the 50-60 degree mark, this is due to the fact that the sensor encounters a vertex which causes an increase in stray echoes resulting in erroneous readings. This is also observed at around 40-60 and 120-140 degrees in other cuboid readings (due to vertices). We also see that the deviation is relatively small compared to data taken with a higher LIMIT value in arduino code. This is becuause a lower LIMIT causes the sensor to momentarily halt readings if the environment is concentrated with stray echoes."
   ]
  },
  {
   "cell_type": "markdown",
   "id": "509fa64b",
   "metadata": {},
   "source": [
    "The bottom cell is for studying readings/(each row) individually"
   ]
  },
  {
   "cell_type": "code",
   "execution_count": 19,
   "id": "e0e1855c",
   "metadata": {},
   "outputs": [
    {
     "data": {
      "image/png": "[encoded data removed]",
      "text/plain": [
       "<Figure size 432x288 with 1 Axes>"
      ]
     },
     "metadata": {},
     "output_type": "display_data"
    }
   ],
   "source": [
    "reading = 31\n",
    "\n",
    "a = pdrow_to_list(df.iloc[reading:reading+1])\n",
    "draw(a)"
   ]
  },
  {
   "cell_type": "markdown",
   "id": "2ac646be",
   "metadata": {},
   "source": [
    "The cell below is for studying the distribution of readings for each spot at a specific angle/(each column)"
   ]
  },
  {
   "cell_type": "code",
   "execution_count": 20,
   "id": "7f7b6971",
   "metadata": {},
   "outputs": [
    {
     "data": {
      "text/plain": [
       "<AxesSubplot:>"
      ]
     },
     "execution_count": 20,
     "metadata": {},
     "output_type": "execute_result"
    },
    {
     "data": {
      "image/png": "[encoded data removed]",
      "text/plain": [
       "<Figure size 432x288 with 1 Axes>"
      ]
     },
     "metadata": {},
     "output_type": "display_data"
    }
   ],
   "source": [
    "angle = '45_deg'\n",
    "\n",
    "fig, ax = plt.subplots()\n",
    "df[angle].value_counts().sort_index().plot(ax=ax, kind=\"bar\")"
   ]
  },
  {
   "cell_type": "code",
   "execution_count": 21,
   "id": "eb89ca66",
   "metadata": {},
   "outputs": [
    {
     "data": {
      "image/png": "[encoded data removed]",
      "text/plain": [
       "<Figure size 432x288 with 1 Axes>"
      ]
     },
     "metadata": {},
     "output_type": "display_data"
    }
   ],
   "source": [
    "mean = df.mean()\n",
    "mean_data = pdrow_to_list(mean)\n",
    "draw(mean_data)"
   ]
  },
  {
   "cell_type": "code",
   "execution_count": 22,
   "id": "1b239fdb",
   "metadata": {},
   "outputs": [
    {
     "data": {
      "image/png": "[encoded data removed]",
      "text/plain": [
       "<Figure size 432x288 with 1 Axes>"
      ]
     },
     "metadata": {},
     "output_type": "display_data"
    }
   ],
   "source": [
    "median = df.median()\n",
    "median_data = pdrow_to_list(median)\n",
    "draw(median_data)"
   ]
  },
  {
   "cell_type": "markdown",
   "id": "3d06d837",
   "metadata": {},
   "source": [
    "In the above two cells, we experiment with mean and median as potential measures of central tendency. Both seem to be a good enough fit with very little trade-off at the present scale. But median seems to be a more accurate measure becuase of the high variance (with outliers) observed at times."
   ]
  },
  {
   "cell_type": "markdown",
   "id": "343061ba",
   "metadata": {},
   "source": [
    "Increasing the LIMIT in ard_code_1 gives us more data to work with which increases accuracy but becuase of the nature of the sensor, at points, it also decreases accuracy by populating table with several consecutive erroneous data points. This can be overcome by carefully increasing OBSERVATIONS in ard_code_1."
   ]
  },
  {
   "cell_type": "markdown",
   "id": "7f33ff70",
   "metadata": {},
   "source": [
    "Although with more data from more sensitive sensors, we will get better results, the sanitisation will not be this straightforward. \n",
    "Further work is to be done in exploring clutering in data points at specific angles. Centroids from these clusters might be a good candidate as an estimate, but this can be employed only on data with higher accuracy from better sensors."
   ]
  },
  {
   "cell_type": "code",
   "execution_count": null,
   "id": "2572dc9b",
   "metadata": {},
   "outputs": [],
   "source": [
    "with open(out_csv, 'a') as file:\n",
    "    writer_object = csv.writer(file)\n",
    "    writer_object.writerow(median_data)\n",
    "    file.close()"
   ]
  },
  {
   "cell_type": "markdown",
   "id": "8d2c841e",
   "metadata": {},
   "source": [
    "Above cell can be used to append final data of a arc to the bigger collection of arcs which is used by the renderer to generate a 3d render. For the renderer to be able to access this, a server has to be started in the repo root at localhost:5500."
   ]
  },
  {
   "cell_type": "code",
   "execution_count": 23,
   "id": "9c765691",
   "metadata": {},
   "outputs": [],
   "source": [
    "def draw_cluster(a, angle):\n",
    "    x, y, s = [], [], []\n",
    "    marker_size = 1\n",
    "    for i in range(0, len(a)):\n",
    "        s.append(marker_size)\n",
    "        x.append(a[i] * math.cos(angle))\n",
    "        y.append(a[i] * math.sin(angle))\n",
    "    plt.scatter(x, y, s=s)"
   ]
  },
  {
   "cell_type": "code",
   "execution_count": 24,
   "id": "26e3563e",
   "metadata": {},
   "outputs": [
    {
     "data": {
      "image/png": "[encoded data removed]",
      "text/plain": [
       "<Figure size 432x288 with 1 Axes>"
      ]
     },
     "metadata": {},
     "output_type": "display_data"
    }
   ],
   "source": [
    "draw_cluster(df['55_deg'], 45)"
   ]
  }
 ],
 "metadata": {
  "kernelspec": {
   "display_name": "Python 3 (ipykernel)",
   "language": "python",
   "name": "python3"
  },
  "language_info": {
   "codemirror_mode": {
    "name": "ipython",
    "version": 3
   },
   "file_extension": ".py",
   "mimetype": "text/x-python",
   "name": "python",
   "nbconvert_exporter": "python",
   "pygments_lexer": "ipython3",
   "version": "3.8.10"
  }
 },
 "nbformat": 4,
 "nbformat_minor": 5
}
