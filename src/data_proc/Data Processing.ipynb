{
 "cells": [
  {
   "cell_type": "markdown",
   "id": "03d7c02c",
   "metadata": {},
   "source": [
    "## Project Hollowgraph"
   ]
  },
  {
   "cell_type": "code",
   "execution_count": 1,
   "id": "0fd8ef68",
   "metadata": {},
   "outputs": [],
   "source": [
    "%matplotlib inline\n",
    "import math\n",
    "import pandas as pd\n",
    "import matplotlib.pyplot as plt\n",
    "import csv\n",
    "import mpld3\n",
    "\n",
    "#mpld3.enable_notebook()\n",
    "plt.style.use('dark_background')"
   ]
  },
  {
   "cell_type": "markdown",
   "id": "9ad3e62c",
   "metadata": {},
   "source": [
    "This notebook is meant to be used on data collected using ard_code_1"
   ]
  },
  {
   "cell_type": "code",
   "execution_count": 2,
   "id": "cbe86e85",
   "metadata": {},
   "outputs": [],
   "source": [
    "data_path = \"../../data/ard_code_1_data/cuboid_single_arc_2.csv\" #insert csv path"
   ]
  },
  {
   "cell_type": "markdown",
   "id": "91060f48",
   "metadata": {},
   "source": [
    "Format of the data:\n",
    "* The servo sweeps a 180 degree arc taking a reading at an interval of 1 degree\n",
    "* Each row in the csv corresponds to readings at a specific angle, therefore, number of columns is the number of observations\n",
    "* Also, since the sensor takes a total of 180 readings, number of rows is 180"
   ]
  },
  {
   "cell_type": "code",
   "execution_count": 3,
   "id": "a294e5d2",
   "metadata": {},
   "outputs": [
    {
     "ename": "ValueError",
     "evalue": "Length mismatch: Expected axis has 362 elements, new values have 180 elements",
     "output_type": "error",
     "traceback": [
      "\u001b[0;31m---------------------------------------------------------------------------\u001b[0m",
      "\u001b[0;31mValueError\u001b[0m                                Traceback (most recent call last)",
      "Input \u001b[0;32mIn [3]\u001b[0m, in \u001b[0;36m<cell line: 9>\u001b[0;34m()\u001b[0m\n\u001b[1;32m      7\u001b[0m col_count \u001b[38;5;241m=\u001b[39m \u001b[38;5;28mlen\u001b[39m(df\u001b[38;5;241m.\u001b[39mcolumns)\n\u001b[1;32m      8\u001b[0m col_names \u001b[38;5;241m=\u001b[39m [\u001b[38;5;124mf\u001b[39m\u001b[38;5;124m\"\u001b[39m\u001b[38;5;132;01m{\u001b[39;00mi\u001b[38;5;132;01m}\u001b[39;00m\u001b[38;5;124m_deg\u001b[39m\u001b[38;5;124m\"\u001b[39m \u001b[38;5;28;01mfor\u001b[39;00m i \u001b[38;5;129;01min\u001b[39;00m \u001b[38;5;28mrange\u001b[39m(\u001b[38;5;241m0\u001b[39m, \u001b[38;5;241m180\u001b[39m)]\n\u001b[0;32m----> 9\u001b[0m \u001b[43mdf\u001b[49m\u001b[38;5;241;43m.\u001b[39;49m\u001b[43mcolumns\u001b[49m \u001b[38;5;241m=\u001b[39m col_names\n\u001b[1;32m     10\u001b[0m df\u001b[38;5;241m.\u001b[39mhead()\n",
      "File \u001b[0;32m~/.local/lib/python3.8/site-packages/pandas/core/generic.py:5588\u001b[0m, in \u001b[0;36mNDFrame.__setattr__\u001b[0;34m(self, name, value)\u001b[0m\n\u001b[1;32m   5586\u001b[0m \u001b[38;5;28;01mtry\u001b[39;00m:\n\u001b[1;32m   5587\u001b[0m     \u001b[38;5;28mobject\u001b[39m\u001b[38;5;241m.\u001b[39m\u001b[38;5;21m__getattribute__\u001b[39m(\u001b[38;5;28mself\u001b[39m, name)\n\u001b[0;32m-> 5588\u001b[0m     \u001b[38;5;28;01mreturn\u001b[39;00m \u001b[38;5;28;43mobject\u001b[39;49m\u001b[38;5;241;43m.\u001b[39;49m\u001b[38;5;21;43m__setattr__\u001b[39;49m\u001b[43m(\u001b[49m\u001b[38;5;28;43mself\u001b[39;49m\u001b[43m,\u001b[49m\u001b[43m \u001b[49m\u001b[43mname\u001b[49m\u001b[43m,\u001b[49m\u001b[43m \u001b[49m\u001b[43mvalue\u001b[49m\u001b[43m)\u001b[49m\n\u001b[1;32m   5589\u001b[0m \u001b[38;5;28;01mexcept\u001b[39;00m \u001b[38;5;167;01mAttributeError\u001b[39;00m:\n\u001b[1;32m   5590\u001b[0m     \u001b[38;5;28;01mpass\u001b[39;00m\n",
      "File \u001b[0;32m~/.local/lib/python3.8/site-packages/pandas/_libs/properties.pyx:70\u001b[0m, in \u001b[0;36mpandas._libs.properties.AxisProperty.__set__\u001b[0;34m()\u001b[0m\n",
      "File \u001b[0;32m~/.local/lib/python3.8/site-packages/pandas/core/generic.py:769\u001b[0m, in \u001b[0;36mNDFrame._set_axis\u001b[0;34m(self, axis, labels)\u001b[0m\n\u001b[1;32m    767\u001b[0m \u001b[38;5;28;01mdef\u001b[39;00m \u001b[38;5;21m_set_axis\u001b[39m(\u001b[38;5;28mself\u001b[39m, axis: \u001b[38;5;28mint\u001b[39m, labels: Index) \u001b[38;5;241m-\u001b[39m\u001b[38;5;241m>\u001b[39m \u001b[38;5;28;01mNone\u001b[39;00m:\n\u001b[1;32m    768\u001b[0m     labels \u001b[38;5;241m=\u001b[39m ensure_index(labels)\n\u001b[0;32m--> 769\u001b[0m     \u001b[38;5;28;43mself\u001b[39;49m\u001b[38;5;241;43m.\u001b[39;49m\u001b[43m_mgr\u001b[49m\u001b[38;5;241;43m.\u001b[39;49m\u001b[43mset_axis\u001b[49m\u001b[43m(\u001b[49m\u001b[43maxis\u001b[49m\u001b[43m,\u001b[49m\u001b[43m \u001b[49m\u001b[43mlabels\u001b[49m\u001b[43m)\u001b[49m\n\u001b[1;32m    770\u001b[0m     \u001b[38;5;28mself\u001b[39m\u001b[38;5;241m.\u001b[39m_clear_item_cache()\n",
      "File \u001b[0;32m~/.local/lib/python3.8/site-packages/pandas/core/internals/managers.py:214\u001b[0m, in \u001b[0;36mBaseBlockManager.set_axis\u001b[0;34m(self, axis, new_labels)\u001b[0m\n\u001b[1;32m    212\u001b[0m \u001b[38;5;28;01mdef\u001b[39;00m \u001b[38;5;21mset_axis\u001b[39m(\u001b[38;5;28mself\u001b[39m, axis: \u001b[38;5;28mint\u001b[39m, new_labels: Index) \u001b[38;5;241m-\u001b[39m\u001b[38;5;241m>\u001b[39m \u001b[38;5;28;01mNone\u001b[39;00m:\n\u001b[1;32m    213\u001b[0m     \u001b[38;5;66;03m# Caller is responsible for ensuring we have an Index object.\u001b[39;00m\n\u001b[0;32m--> 214\u001b[0m     \u001b[38;5;28;43mself\u001b[39;49m\u001b[38;5;241;43m.\u001b[39;49m\u001b[43m_validate_set_axis\u001b[49m\u001b[43m(\u001b[49m\u001b[43maxis\u001b[49m\u001b[43m,\u001b[49m\u001b[43m \u001b[49m\u001b[43mnew_labels\u001b[49m\u001b[43m)\u001b[49m\n\u001b[1;32m    215\u001b[0m     \u001b[38;5;28mself\u001b[39m\u001b[38;5;241m.\u001b[39maxes[axis] \u001b[38;5;241m=\u001b[39m new_labels\n",
      "File \u001b[0;32m~/.local/lib/python3.8/site-packages/pandas/core/internals/base.py:69\u001b[0m, in \u001b[0;36mDataManager._validate_set_axis\u001b[0;34m(self, axis, new_labels)\u001b[0m\n\u001b[1;32m     66\u001b[0m     \u001b[38;5;28;01mpass\u001b[39;00m\n\u001b[1;32m     68\u001b[0m \u001b[38;5;28;01melif\u001b[39;00m new_len \u001b[38;5;241m!=\u001b[39m old_len:\n\u001b[0;32m---> 69\u001b[0m     \u001b[38;5;28;01mraise\u001b[39;00m \u001b[38;5;167;01mValueError\u001b[39;00m(\n\u001b[1;32m     70\u001b[0m         \u001b[38;5;124mf\u001b[39m\u001b[38;5;124m\"\u001b[39m\u001b[38;5;124mLength mismatch: Expected axis has \u001b[39m\u001b[38;5;132;01m{\u001b[39;00mold_len\u001b[38;5;132;01m}\u001b[39;00m\u001b[38;5;124m elements, new \u001b[39m\u001b[38;5;124m\"\u001b[39m\n\u001b[1;32m     71\u001b[0m         \u001b[38;5;124mf\u001b[39m\u001b[38;5;124m\"\u001b[39m\u001b[38;5;124mvalues have \u001b[39m\u001b[38;5;132;01m{\u001b[39;00mnew_len\u001b[38;5;132;01m}\u001b[39;00m\u001b[38;5;124m elements\u001b[39m\u001b[38;5;124m\"\u001b[39m\n\u001b[1;32m     72\u001b[0m     )\n",
      "\u001b[0;31mValueError\u001b[0m: Length mismatch: Expected axis has 362 elements, new values have 180 elements"
     ]
    }
   ],
   "source": [
    "df = pd.read_csv(data_path)\n",
    "col_count = len(df.columns)\n",
    "col_names = [f\"{i}\" for i in range(0, col_count)]\n",
    "df.columns = col_names\n",
    "df.drop(str(col_count-1), axis=1, inplace=True)\n",
    "df = df.T\n",
    "col_count = len(df.columns)\n",
    "col_names = [f\"{i}_deg\" for i in range(0, 180)]\n",
    "df.columns = col_names\n",
    "df.head()\n",
    "# this cell transposes the dataframe and adds column names for ease of use"
   ]
  },
  {
   "cell_type": "code",
   "execution_count": null,
   "id": "c4e5f8bb",
   "metadata": {},
   "outputs": [],
   "source": [
    "# utiliy function to draw a single section\n",
    "def draw(a, line=False): # a is data of one sweep\n",
    "    x, y, s = [], [], []\n",
    "    marker_size = 1\n",
    "    for i in range(0, len(a)):\n",
    "        s.append(marker_size)\n",
    "        angle = math.pi - i*(math.pi/len(a))\n",
    "        x.append(a[i] * math.cos(angle))\n",
    "        y.append(a[i] * math.sin(angle))\n",
    "    plt.scatter(x, y, s=s)\n",
    "    if line:\n",
    "        plt.plot(x, y)"
   ]
  },
  {
   "cell_type": "code",
   "execution_count": null,
   "id": "43d2b51d",
   "metadata": {},
   "outputs": [],
   "source": [
    "# utility function to transform a dataframe row to a list\n",
    "def pdrow_to_list(dfr):\n",
    "    ret = []\n",
    "    for i in range(0, 180):\n",
    "        ret.append(float(dfr[f'{i}_deg']))\n",
    "    return ret"
   ]
  },
  {
   "cell_type": "markdown",
   "id": "934ee3a0",
   "metadata": {},
   "source": [
    "The section below plots the standard deviation for data points in each angle. This gives us a few very interesting observations."
   ]
  },
  {
   "cell_type": "code",
   "execution_count": null,
   "id": "c16b8dbe",
   "metadata": {},
   "outputs": [],
   "source": [
    "a = pdrow_to_list(df.std())\n",
    "x, y, s = [], [], []\n",
    "for i in range(0, len(a)):\n",
    "    s.append(1)\n",
    "    x.append(i)\n",
    "    y.append(a[i])\n",
    "plt.scatter(x, y, s=s)\n",
    "plt.plot(x, y)"
   ]
  },
  {
   "cell_type": "markdown",
   "id": "e169f46b",
   "metadata": {},
   "source": [
    "There is a huge spike near the 50-60 degree mark, this is due to the fact that the sensor encounters a vertex which causes an increase in stray echoes resulting in erroneous readings. This is also observed at around 40-60 and 120-140 degrees in other cuboid readings (due to vertices). We also see that the deviation is relatively small compared to data taken with a higher LIMIT value in arduino code. This is becuause a lower LIMIT causes the sensor to momentarily halt readings if the environment is concentrated with stray echoes."
   ]
  },
  {
   "cell_type": "markdown",
   "id": "509fa64b",
   "metadata": {},
   "source": [
    "The bottom cell is for studying readings/(each row) individually"
   ]
  },
  {
   "cell_type": "code",
   "execution_count": null,
   "id": "e0e1855c",
   "metadata": {},
   "outputs": [],
   "source": [
    "reading = 31\n",
    "\n",
    "a = pdrow_to_list(df.iloc[reading:reading+1])\n",
    "draw(a)"
   ]
  },
  {
   "cell_type": "markdown",
   "id": "2ac646be",
   "metadata": {},
   "source": [
    "The cell below is for studying the distribution of readings for each spot at a specific angle/(each column)"
   ]
  },
  {
   "cell_type": "code",
   "execution_count": null,
   "id": "7f7b6971",
   "metadata": {},
   "outputs": [],
   "source": [
    "angle = '45_deg'\n",
    "\n",
    "fig, ax = plt.subplots()\n",
    "df[angle].value_counts().sort_index().plot(ax=ax, kind=\"bar\")"
   ]
  },
  {
   "cell_type": "code",
   "execution_count": null,
   "id": "eb89ca66",
   "metadata": {},
   "outputs": [],
   "source": [
    "mean = df.mean()\n",
    "mean_data = pdrow_to_list(mean)\n",
    "draw(mean_data)"
   ]
  },
  {
   "cell_type": "code",
   "execution_count": null,
   "id": "1b239fdb",
   "metadata": {},
   "outputs": [],
   "source": [
    "median = df.median()\n",
    "median_data = pdrow_to_list(median)\n",
    "draw(median_data)"
   ]
  },
  {
   "cell_type": "markdown",
   "id": "3d06d837",
   "metadata": {},
   "source": [
    "In the above two cells, we experiment with mean and median as potential measures of central tendency. Both seem to be a good enough fit with very little trade-off at the present scale. But median seems to be a more accurate measure becuase of the high variance (with outliers) observed at times."
   ]
  },
  {
   "cell_type": "markdown",
   "id": "343061ba",
   "metadata": {},
   "source": [
    "Increasing the LIMIT in ard_code_1 gives us more data to work with which increases accuracy but becuase of the nature of the sensor, at points, it also decreases accuracy by populating table with several consecutive erroneous data points. This can be overcome by carefully increasing OBSERVATIONS in ard_code_1."
   ]
  },
  {
   "cell_type": "markdown",
   "id": "7f33ff70",
   "metadata": {},
   "source": [
    "Although with more data from more sensitive sensors, we will get better results, the sanitisation will not be this straightforward. \n",
    "Further work is to be done in exploring clutering in data points at specific angles. Centroids from these clusters might be a good candidate as an estimate, but this can be employed only on data with higher accuracy from better sensors."
   ]
  },
  {
   "cell_type": "code",
   "execution_count": null,
   "id": "2572dc9b",
   "metadata": {},
   "outputs": [],
   "source": [
    "with open('../../data/data.csv', 'a') as file:\n",
    "    writer_object = csv.writer(file)\n",
    "    writer_object.writerow(median_data)\n",
    "    file.close()"
   ]
  },
  {
   "cell_type": "markdown",
   "id": "8d2c841e",
   "metadata": {},
   "source": [
    "Above cell can be used to append final data of a arc to the bigger collection of arcs which is used by the renderer to generate a 3d render. For the renderer to be able to access this, a server has to be started in the repo root at localhost:5500."
   ]
  },
  {
   "cell_type": "code",
   "execution_count": null,
   "id": "9c765691",
   "metadata": {},
   "outputs": [],
   "source": [
    "def draw_cluster(a, angle):\n",
    "    x, y, s = [], [], []\n",
    "    marker_size = 1\n",
    "    for i in range(0, len(a)):\n",
    "        s.append(marker_size)\n",
    "        x.append(a[i] * math.cos(angle))\n",
    "        y.append(a[i] * math.sin(angle))\n",
    "    plt.scatter(x, y, s=s)"
   ]
  },
  {
   "cell_type": "code",
   "execution_count": null,
   "id": "26e3563e",
   "metadata": {},
   "outputs": [],
   "source": [
    "draw_cluster(df['55_deg'], 45)"
   ]
  }
 ],
 "metadata": {
  "kernelspec": {
   "display_name": "Python 3 (ipykernel)",
   "language": "python",
   "name": "python3"
  },
  "language_info": {
   "codemirror_mode": {
    "name": "ipython",
    "version": 3
   },
   "file_extension": ".py",
   "mimetype": "text/x-python",
   "name": "python",
   "nbconvert_exporter": "python",
   "pygments_lexer": "ipython3",
   "version": "3.8.10"
  }
 },
 "nbformat": 4,
 "nbformat_minor": 5
}
